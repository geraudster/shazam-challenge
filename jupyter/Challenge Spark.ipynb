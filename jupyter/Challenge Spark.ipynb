{
 "cells": [
  {
   "cell_type": "markdown",
   "metadata": {
    "collapsed": true
   },
   "source": [
    "![Spark](http://spark.apache.org/docs/latest/img/spark-logo-hd.png)\n",
    "\n",
    "<img src=\"http://hortonworks.com/wp-content/themes/hortonworks/images/svg/ui_logo.svg\" width=\"240\"/>\n",
    "\n",
    "## Utilisation de Spark sur le cluster\n",
    "\n",
    "Ce notebook est un exemple d'application d'une random forest sur le jeu de données nc13."
   ]
  },
  {
   "cell_type": "markdown",
   "metadata": {},
   "source": [
    "### Utilisation Jupyter"
   ]
  },
  {
   "cell_type": "code",
   "execution_count": null,
   "metadata": {
    "collapsed": false
   },
   "outputs": [],
   "source": [
    "1+2"
   ]
  },
  {
   "cell_type": "markdown",
   "metadata": {},
   "source": [
    "Ceci est de la doc"
   ]
  },
  {
   "cell_type": "markdown",
   "metadata": {},
   "source": [
    "### Configuration de Python"
   ]
  },
  {
   "cell_type": "code",
   "execution_count": null,
   "metadata": {
    "collapsed": true
   },
   "outputs": [],
   "source": [
    "# à utiliser pour stopper le contexte Spark\n",
    "sc.stop()"
   ]
  },
  {
   "cell_type": "markdown",
   "metadata": {},
   "source": [
    "Configuration du PYTHON_PATH :"
   ]
  },
  {
   "cell_type": "code",
   "execution_count": 1,
   "metadata": {
    "collapsed": false
   },
   "outputs": [],
   "source": [
    "import os\n",
    "import sys\n",
    "spark_home = os.environ.get('SPARK_HOME', None)\n",
    "sys.path.insert(0, spark_home + \"/python\")\n",
    "sys.path.insert(0, os.path.join(spark_home, 'python/lib/py4j-0.9-src.zip'))"
   ]
  },
  {
   "cell_type": "markdown",
   "metadata": {},
   "source": [
    "Configuration du client Spark, nous utilisons le mode yarn-client :\n",
    "![Cluster Overview](http://spark.apache.org/docs/latest/img/cluster-overview.png)"
   ]
  },
  {
   "cell_type": "code",
   "execution_count": 2,
   "metadata": {
    "collapsed": false
   },
   "outputs": [],
   "source": [
    "import os\n",
    "import pyspark\n",
    "\n",
    "conf = pyspark.SparkConf()\n",
    "conf.setMaster('yarn-client')\n",
    "\n",
    "sc = pyspark.SparkContext(conf=conf)"
   ]
  },
  {
   "cell_type": "code",
   "execution_count": 3,
   "metadata": {
    "collapsed": false
   },
   "outputs": [
    {
     "data": {
      "text/plain": [
       "u'yarn-client'"
      ]
     },
     "execution_count": 3,
     "metadata": {},
     "output_type": "execute_result"
    }
   ],
   "source": [
    "sc.master"
   ]
  },
  {
   "cell_type": "markdown",
   "metadata": {},
   "source": [
    "### Spark sur YARN\n",
    "\n",
    "![HDP platform](HDP_architecture.png)"
   ]
  },
  {
   "cell_type": "markdown",
   "metadata": {},
   "source": [
    "### Chargement des données\n",
    "\n",
    "Les données ont été chargées sur HDFS dans le répertoire /user/geraud/shazam. Ici, nous allons utiliser les fichiers convertis au format Parquet (dans le répertoire /user/geraud/shazam/parquet)."
   ]
  },
  {
   "cell_type": "code",
   "execution_count": 4,
   "metadata": {
    "collapsed": true
   },
   "outputs": [],
   "source": [
    "from pyspark.sql import *\n",
    "from pyspark.sql.types import *\n",
    "import pyspark.sql.functions as F"
   ]
  },
  {
   "cell_type": "markdown",
   "metadata": {},
   "source": [
    "On initialise un SQLContext, qui va nous permettre de charger les données sous forme de Data.Frame.\n",
    "Un DataFrame est une représentation tabulaire des données (à la Excel): https://spark.apache.org/docs/1.6.2/sql-programming-guide.html"
   ]
  },
  {
   "cell_type": "code",
   "execution_count": 5,
   "metadata": {
    "collapsed": false
   },
   "outputs": [],
   "source": [
    "sqlContext = SQLContext(sc)"
   ]
  },
  {
   "cell_type": "code",
   "execution_count": 6,
   "metadata": {
    "collapsed": false
   },
   "outputs": [
    {
     "name": "stdout",
     "output_type": "stream",
     "text": [
      "+-------+--------------+-------------+---------------+-------------+-------------+--------------+-------------+-------------+--------------+---------------+---------------+-------------+--------------+-------+--------+\n",
      "|idSound|       bands_1|      bands_2|        bands_3|      bands_4|      bands_5|       bands_6|      bands_7|      bands_8|       bands_9|       bands_10|       bands_11|     bands_12|      bands_13|mfccSeq|   class|\n",
      "+-------+--------------+-------------+---------------+-------------+-------------+--------------+-------------+-------------+--------------+---------------+---------------+-------------+--------------+-------+--------+\n",
      "|    274|-901.902099609| 163.83505249| -11.8038024902|19.7777748108|19.9015960693|-4.03476715088|18.4968910217|12.1045322418|-1.85980224609|-0.522010803223|  1.58743667603|2.35488128662|-9.13202285767|      1|dog_bark|\n",
      "|    274|-884.952514648|154.302032471| -24.4797782898|35.2823219299|8.37690734863|-21.6676330566|14.3066902161| 2.4754486084| 3.89032363892|  3.24601745605| -6.73013877869| 16.709104538| 10.1444091797|      2|dog_bark|\n",
      "|    274|-910.679870605|147.575836182| -7.37031555176|36.3427009583|7.01029968262|  -13.25365448|25.5862045288|13.9219684601| 9.14876174927|0.0632247924805| -11.6082515717|12.2986602783| 2.22973632812|      3|dog_bark|\n",
      "|    274|-930.696655273|140.576019287| -2.04270935059|32.2099189758|7.10624694824|-20.3824462891|10.2228736877|5.86395263672| 6.06309127808|  8.64373207092|-0.539455413818|10.9407272339| 2.05480957031|      4|dog_bark|\n",
      "|    274|-932.699462891|135.094207764|0.0494689941406|42.1913490295|7.70018005371|-21.2775039673|12.9482460022|6.37610626221| 12.1410255432|  13.1902179718| -8.49781608582|5.87728118896| 11.7842025757|      5|dog_bark|\n",
      "+-------+--------------+-------------+---------------+-------------+-------------+--------------+-------------+-------------+--------------+---------------+---------------+-------------+--------------+-------+--------+\n",
      "only showing top 5 rows\n",
      "\n"
     ]
    }
   ],
   "source": [
    "mfcc = sqlContext.read.parquet('/user/geraud/shazam/parquet/nc13-train.parquet')\n",
    "mfcc.show(5)"
   ]
  },
  {
   "cell_type": "code",
   "execution_count": 7,
   "metadata": {
    "collapsed": false,
    "scrolled": true
   },
   "outputs": [
    {
     "data": {
      "text/html": [
       "<div>\n",
       "<table border=\"1\" class=\"dataframe\">\n",
       "  <thead>\n",
       "    <tr style=\"text-align: right;\">\n",
       "      <th></th>\n",
       "      <th>summary</th>\n",
       "      <th>idSound</th>\n",
       "      <th>bands_1</th>\n",
       "      <th>bands_2</th>\n",
       "      <th>bands_3</th>\n",
       "      <th>bands_4</th>\n",
       "      <th>bands_5</th>\n",
       "      <th>bands_6</th>\n",
       "      <th>bands_7</th>\n",
       "      <th>bands_8</th>\n",
       "      <th>bands_9</th>\n",
       "      <th>bands_10</th>\n",
       "      <th>bands_11</th>\n",
       "      <th>bands_12</th>\n",
       "      <th>bands_13</th>\n",
       "      <th>mfccSeq</th>\n",
       "    </tr>\n",
       "  </thead>\n",
       "  <tbody>\n",
       "    <tr>\n",
       "      <th>0</th>\n",
       "      <td>count</td>\n",
       "      <td>3388063</td>\n",
       "      <td>3388063</td>\n",
       "      <td>3388063</td>\n",
       "      <td>3388063</td>\n",
       "      <td>3388063</td>\n",
       "      <td>3388063</td>\n",
       "      <td>3388063</td>\n",
       "      <td>3388063</td>\n",
       "      <td>3388063</td>\n",
       "      <td>3388063</td>\n",
       "      <td>3388063</td>\n",
       "      <td>3388063</td>\n",
       "      <td>3388063</td>\n",
       "      <td>3388063</td>\n",
       "      <td>3388063</td>\n",
       "    </tr>\n",
       "    <tr>\n",
       "      <th>1</th>\n",
       "      <td>mean</td>\n",
       "      <td>625.994764855317</td>\n",
       "      <td>-797.7422305973885</td>\n",
       "      <td>130.52924950007187</td>\n",
       "      <td>-8.684178805994717</td>\n",
       "      <td>9.93409146380984</td>\n",
       "      <td>-2.213174698431618</td>\n",
       "      <td>2.79919745596125</td>\n",
       "      <td>0.2200321438486301</td>\n",
       "      <td>1.4286656845608057</td>\n",
       "      <td>-0.5015752394078973</td>\n",
       "      <td>0.7480491144689811</td>\n",
       "      <td>-0.9110609097398981</td>\n",
       "      <td>0.2566778770198374</td>\n",
       "      <td>-0.5979051189166785</td>\n",
       "      <td>4830.286625130642</td>\n",
       "    </tr>\n",
       "    <tr>\n",
       "      <th>2</th>\n",
       "      <td>stddev</td>\n",
       "      <td>378.89575690717896</td>\n",
       "      <td>133.46621725414698</td>\n",
       "      <td>53.088867782977786</td>\n",
       "      <td>40.18542865854186</td>\n",
       "      <td>26.566855270627798</td>\n",
       "      <td>20.88320375826346</td>\n",
       "      <td>18.63478751721859</td>\n",
       "      <td>16.730487031561566</td>\n",
       "      <td>14.2524646400452</td>\n",
       "      <td>13.331844923590173</td>\n",
       "      <td>12.479857078817725</td>\n",
       "      <td>11.412262962857799</td>\n",
       "      <td>11.018432632269958</td>\n",
       "      <td>10.718384230849887</td>\n",
       "      <td>4959.522103508154</td>\n",
       "    </tr>\n",
       "    <tr>\n",
       "      <th>3</th>\n",
       "      <td>min</td>\n",
       "      <td>1</td>\n",
       "      <td>-1138.42004395</td>\n",
       "      <td>-187.382949829</td>\n",
       "      <td>-245.321746826</td>\n",
       "      <td>-159.592193604</td>\n",
       "      <td>-156.033447266</td>\n",
       "      <td>-117.476898193</td>\n",
       "      <td>-116.255081177</td>\n",
       "      <td>-93.6179351807</td>\n",
       "      <td>-94.7189712524</td>\n",
       "      <td>-106.444740295</td>\n",
       "      <td>-77.8643798828</td>\n",
       "      <td>-86.0950698853</td>\n",
       "      <td>-102.984832764</td>\n",
       "      <td>1</td>\n",
       "    </tr>\n",
       "    <tr>\n",
       "      <th>4</th>\n",
       "      <td>max</td>\n",
       "      <td>1301</td>\n",
       "      <td>-303.506225586</td>\n",
       "      <td>327.894744873</td>\n",
       "      <td>159.329299927</td>\n",
       "      <td>163.017944336</td>\n",
       "      <td>125.203155518</td>\n",
       "      <td>111.745773315</td>\n",
       "      <td>102.688072205</td>\n",
       "      <td>105.055770874</td>\n",
       "      <td>91.7920837402</td>\n",
       "      <td>91.9693603516</td>\n",
       "      <td>91.0449066162</td>\n",
       "      <td>91.9013214111</td>\n",
       "      <td>86.9623718262</td>\n",
       "      <td>26210</td>\n",
       "    </tr>\n",
       "  </tbody>\n",
       "</table>\n",
       "</div>"
      ],
      "text/plain": [
       "  summary             idSound             bands_1             bands_2  \\\n",
       "0   count             3388063             3388063             3388063   \n",
       "1    mean    625.994764855317  -797.7422305973885  130.52924950007187   \n",
       "2  stddev  378.89575690717896  133.46621725414698  53.088867782977786   \n",
       "3     min                   1      -1138.42004395      -187.382949829   \n",
       "4     max                1301      -303.506225586       327.894744873   \n",
       "\n",
       "              bands_3             bands_4             bands_5  \\\n",
       "0             3388063             3388063             3388063   \n",
       "1  -8.684178805994717    9.93409146380984  -2.213174698431618   \n",
       "2   40.18542865854186  26.566855270627798   20.88320375826346   \n",
       "3      -245.321746826      -159.592193604      -156.033447266   \n",
       "4       159.329299927       163.017944336       125.203155518   \n",
       "\n",
       "             bands_6             bands_7             bands_8  \\\n",
       "0            3388063             3388063             3388063   \n",
       "1   2.79919745596125  0.2200321438486301  1.4286656845608057   \n",
       "2  18.63478751721859  16.730487031561566    14.2524646400452   \n",
       "3     -117.476898193      -116.255081177      -93.6179351807   \n",
       "4      111.745773315       102.688072205       105.055770874   \n",
       "\n",
       "               bands_9            bands_10             bands_11  \\\n",
       "0              3388063             3388063              3388063   \n",
       "1  -0.5015752394078973  0.7480491144689811  -0.9110609097398981   \n",
       "2   13.331844923590173  12.479857078817725   11.412262962857799   \n",
       "3       -94.7189712524      -106.444740295       -77.8643798828   \n",
       "4        91.7920837402       91.9693603516        91.0449066162   \n",
       "\n",
       "             bands_12             bands_13            mfccSeq  \n",
       "0             3388063              3388063            3388063  \n",
       "1  0.2566778770198374  -0.5979051189166785  4830.286625130642  \n",
       "2  11.018432632269958   10.718384230849887  4959.522103508154  \n",
       "3      -86.0950698853       -102.984832764                  1  \n",
       "4       91.9013214111        86.9623718262              26210  "
      ]
     },
     "execution_count": 7,
     "metadata": {},
     "output_type": "execute_result"
    }
   ],
   "source": [
    "mfcc.describe().toPandas()"
   ]
  },
  {
   "cell_type": "markdown",
   "metadata": {},
   "source": [
    "### Opérations sur des DataFrames"
   ]
  },
  {
   "cell_type": "code",
   "execution_count": null,
   "metadata": {
    "collapsed": false
   },
   "outputs": [],
   "source": [
    "mfcc.filter(mfcc['class'] == 'dog_bark').select('idSound', 'bands_1', 'class').show(5)"
   ]
  },
  {
   "cell_type": "code",
   "execution_count": null,
   "metadata": {
    "collapsed": false
   },
   "outputs": [],
   "source": [
    "mfcc.groupBy('idSound').mean('bands_1').toPandas()"
   ]
  },
  {
   "cell_type": "markdown",
   "metadata": {},
   "source": [
    "En mode SQL:"
   ]
  },
  {
   "cell_type": "code",
   "execution_count": 8,
   "metadata": {
    "collapsed": false
   },
   "outputs": [
    {
     "data": {
      "text/plain": [
       "[u'mfcc']"
      ]
     },
     "execution_count": 8,
     "metadata": {},
     "output_type": "execute_result"
    }
   ],
   "source": [
    "sqlContext.registerDataFrameAsTable(mfcc, 'mfcc')\n",
    "sqlContext.tableNames()"
   ]
  },
  {
   "cell_type": "code",
   "execution_count": null,
   "metadata": {
    "collapsed": false
   },
   "outputs": [],
   "source": [
    "sqlContext.sql(\"SELECT idSound, AVG(bands_1), class FROM mfcc GROUP BY idSound, class\").toPandas()"
   ]
  },
  {
   "cell_type": "markdown",
   "metadata": {},
   "source": [
    "#### Principes\n",
    "\n",
    "Spark permet d'effectuer 2 types d'opérations sur les DataFrames: les *transformations*  et les *actions*.\n",
    "\n",
    "* Exemples de transformations : map, flatMap, filter...\n",
    "* Exemples d'actions : collect, show...\n",
    "\n",
    "Les transformations ne sont exécutées qu'au moment de l'appel à une action.\n"
   ]
  },
  {
   "cell_type": "code",
   "execution_count": 9,
   "metadata": {
    "collapsed": true
   },
   "outputs": [],
   "source": [
    "%matplotlib inline\n",
    "\n",
    "import matplotlib\n",
    "import numpy as np\n",
    "import matplotlib.pyplot as plt"
   ]
  },
  {
   "cell_type": "code",
   "execution_count": null,
   "metadata": {
    "collapsed": true
   },
   "outputs": [],
   "source": [
    "# number of bins\n",
    "n = 30"
   ]
  },
  {
   "cell_type": "code",
   "execution_count": null,
   "metadata": {
    "collapsed": false
   },
   "outputs": [],
   "source": [
    "histo_1 = mfcc.select(\"bands_1\").rdd.flatMap(lambda x: x).histogram(n)"
   ]
  },
  {
   "cell_type": "code",
   "execution_count": null,
   "metadata": {
    "collapsed": false
   },
   "outputs": [],
   "source": [
    "width = histo_1[0][1] - histo_1[0][0]"
   ]
  },
  {
   "cell_type": "code",
   "execution_count": null,
   "metadata": {
    "collapsed": false
   },
   "outputs": [],
   "source": [
    "plt.bar(histo_1[0][:n], histo_1[1], width)"
   ]
  },
  {
   "cell_type": "code",
   "execution_count": null,
   "metadata": {
    "collapsed": false
   },
   "outputs": [],
   "source": [
    "featuresNames = [ column for column in mfcc.columns if 'bands_' in column ]\n",
    "#featuresNames = [ 'bands_1', 'bands_2']\n",
    "histograms = dict()\n",
    "for feature in featuresNames:\n",
    "    print(\"Computing histogram for %s\" % feature)\n",
    "    histograms[feature] = mfcc.select(feature).rdd.flatMap(lambda x: x).histogram(n)"
   ]
  },
  {
   "cell_type": "code",
   "execution_count": null,
   "metadata": {
    "collapsed": false
   },
   "outputs": [],
   "source": [
    "color = 0\n",
    "for feature in featuresNames:\n",
    "    histo = histograms[feature]\n",
    "    width = histo[0][1] - histo[0][0]\n",
    "    plt.bar(histo[0][:n], histo[1], width, log = True, color = plt.cm.autumn(color))\n",
    "    color = (color + 50) % 256\n",
    "    plt.title('Distribution for %s' % feature)\n",
    "    plt.show()"
   ]
  },
  {
   "cell_type": "code",
   "execution_count": null,
   "metadata": {
    "collapsed": false
   },
   "outputs": [],
   "source": [
    "color = 0\n",
    "for feature in featuresNames:\n",
    "    histo = histograms[feature]\n",
    "    width = histo[0][1] - histo[0][0]\n",
    "    plt.bar(histo[0][:n], histo[1], width, log = False, color = plt.cm.autumn(color))\n",
    "    color = (color + 50) % 256\n",
    "    plt.title('Distribution for %s' % feature)\n",
    "    plt.show()"
   ]
  },
  {
   "cell_type": "code",
   "execution_count": null,
   "metadata": {
    "collapsed": true
   },
   "outputs": [],
   "source": []
  },
  {
   "cell_type": "markdown",
   "metadata": {},
   "source": [
    "### Ajout de features"
   ]
  },
  {
   "cell_type": "code",
   "execution_count": null,
   "metadata": {
    "collapsed": false
   },
   "outputs": [],
   "source": [
    "# building aggregations list\n",
    "aggregate = ['bands_1', 'bands_2', 'bands_3', 'bands_4', 'bands_5', 'bands_6',\n",
    "               'bands_7', 'bands_8', 'bands_9', 'bands_10', 'bands_11', 'bands_12', 'bands_13']\n",
    "funs = [ F.avg, F.min, F.max ]\n",
    "exprs = [f(F.col(c)) for f in funs for c in aggregate]\n",
    "exprs"
   ]
  },
  {
   "cell_type": "code",
   "execution_count": null,
   "metadata": {
    "collapsed": false
   },
   "outputs": [],
   "source": [
    "mfcc_agg = mfcc.groupBy('idSound', 'class').agg(*exprs)\n",
    "mfcc_agg.show(5)"
   ]
  },
  {
   "cell_type": "code",
   "execution_count": null,
   "metadata": {
    "collapsed": false
   },
   "outputs": [],
   "source": [
    "mfcc_agg.cache()"
   ]
  },
  {
   "cell_type": "code",
   "execution_count": 10,
   "metadata": {
    "collapsed": false
   },
   "outputs": [
    {
     "data": {
      "text/plain": [
       "['bands_1',\n",
       " 'bands_2',\n",
       " 'bands_3',\n",
       " 'bands_4',\n",
       " 'bands_5',\n",
       " 'bands_6',\n",
       " 'bands_7',\n",
       " 'bands_8',\n",
       " 'bands_9',\n",
       " 'bands_10',\n",
       " 'bands_11',\n",
       " 'bands_12',\n",
       " 'bands_13']"
      ]
     },
     "execution_count": 10,
     "metadata": {},
     "output_type": "execute_result"
    }
   ],
   "source": [
    "predictors = [column for column in mfcc.columns if 'bands_' in column ] \n",
    "predictors"
   ]
  },
  {
   "cell_type": "markdown",
   "metadata": {},
   "source": [
    "### Construction du pipeline de Machine Learning\n",
    "\n",
    "Nous allons mettre en oeuvre une succession de transformations au jeu de données:\n",
    "\n",
    "* indexation des labels (la mllib de Spark ne fonctionne que sur des nombres)\n",
    "* regroupement des features: les colones bands_* vont être regroupées dans une colone _features_\n",
    "* calcul du modèle\n",
    "\n",
    "La doc SparkML est là: https://spark.apache.org/docs/1.6.2/ml-guide.html"
   ]
  },
  {
   "cell_type": "code",
   "execution_count": 11,
   "metadata": {
    "collapsed": true
   },
   "outputs": [],
   "source": [
    "from pyspark.ml.feature import VectorAssembler\n",
    "from pyspark.ml.feature import StringIndexer, IndexToString\n",
    "from pyspark.ml.feature import Normalizer\n",
    "from pyspark.ml.classification import RandomForestClassifier\n",
    "from pyspark.ml import Pipeline"
   ]
  },
  {
   "cell_type": "code",
   "execution_count": null,
   "metadata": {
    "collapsed": false
   },
   "outputs": [],
   "source": [
    "# comme d'habitude, on met une partie des données de côté\n",
    "(trainingData, testData) = mfcc_agg.randomSplit([0.8, 0.2], seed = 1234)\n",
    "\n",
    "labelIndexer = StringIndexer(inputCol='class', outputCol='classIndex').fit(mfcc_agg)\n",
    "\n",
    "assembler = VectorAssembler(\n",
    "    inputCols=predictors,\n",
    "    outputCol='features')\n",
    "\n",
    "normalizer = Normalizer(inputCol=\"features\", outputCol=\"normFeatures\", p=1.0)\n",
    "\n",
    "rf = RandomForestClassifier(labelCol=\"classIndex\", featuresCol=\"normFeatures\", seed = 1234)\n",
    "\n",
    "pipeline = Pipeline(stages=[labelIndexer, assembler, normalizer, rf])\n",
    "\n",
    "model = pipeline.fit(trainingData)"
   ]
  },
  {
   "cell_type": "code",
   "execution_count": null,
   "metadata": {
    "collapsed": false
   },
   "outputs": [],
   "source": [
    "model.stages"
   ]
  },
  {
   "cell_type": "markdown",
   "metadata": {},
   "source": [
    "Pendant que ça tourne, on peut vérifier l'avancement du job sur http://nn1.hdp3.bsa.broadsoftware.com:8088/cluster/apps"
   ]
  },
  {
   "cell_type": "markdown",
   "metadata": {},
   "source": [
    "### Faire des prédictions"
   ]
  },
  {
   "cell_type": "code",
   "execution_count": null,
   "metadata": {
    "collapsed": false
   },
   "outputs": [],
   "source": [
    "rawPredictions = model.transform(testData)\n",
    "rawPredictions.limit(5).toPandas()"
   ]
  },
  {
   "cell_type": "code",
   "execution_count": null,
   "metadata": {
    "collapsed": false
   },
   "outputs": [],
   "source": [
    "converter = IndexToString(inputCol=\"prediction\", outputCol=\"classPrediction\", labels = labelIndexer.labels)\n",
    "predictions = converter.transform(rawPredictions)\n",
    "predictions.select(\"idSound\", \"prediction\", \"classPrediction\", \"classIndex\", \"class\", \"features\").show(5)"
   ]
  },
  {
   "cell_type": "code",
   "execution_count": null,
   "metadata": {
    "collapsed": false
   },
   "outputs": [],
   "source": [
    "predictions.limit(1).toPandas()"
   ]
  },
  {
   "cell_type": "markdown",
   "metadata": {},
   "source": [
    "### Évaluation du modèle"
   ]
  },
  {
   "cell_type": "code",
   "execution_count": null,
   "metadata": {
    "collapsed": false
   },
   "outputs": [],
   "source": [
    "from pyspark.ml.evaluation import MulticlassClassificationEvaluator\n",
    "\n",
    "evaluator = MulticlassClassificationEvaluator(\n",
    "    labelCol=\"classIndex\", predictionCol=\"prediction\", metricName=\"precision\")\n",
    "\n",
    "accuracy = evaluator.evaluate(predictions)\n",
    "print(\"Test Error = %g\" % (1.0 - accuracy))"
   ]
  },
  {
   "cell_type": "code",
   "execution_count": null,
   "metadata": {
    "collapsed": true
   },
   "outputs": [],
   "source": [
    "full_model = pipeline.fit(mfcc_agg)"
   ]
  },
  {
   "cell_type": "code",
   "execution_count": null,
   "metadata": {
    "collapsed": false
   },
   "outputs": [],
   "source": [
    "validation = sqlContext.read.parquet('/user/geraud/shazam/parquet/nc13-validation.parquet')\n",
    "validation_agg = validation.groupBy('idSound', 'class').agg(*exprs)\n",
    "rawPredictions = full_model.transform(validation_agg.select('idSound', *predictors))\n",
    "\n",
    "predictions = converter.transform(rawPredictions).select('idSound', 'classPrediction').collect()"
   ]
  },
  {
   "cell_type": "code",
   "execution_count": null,
   "metadata": {
    "collapsed": false
   },
   "outputs": [],
   "source": [
    "predictions[1:10]"
   ]
  },
  {
   "cell_type": "code",
   "execution_count": null,
   "metadata": {
    "collapsed": false
   },
   "outputs": [],
   "source": [
    "import pandas as pd\n",
    "submissionDf = pd.DataFrame(predictions, columns = ['idSound', 'class'])\n",
    "submissionDf[:10]"
   ]
  },
  {
   "cell_type": "code",
   "execution_count": null,
   "metadata": {
    "collapsed": true
   },
   "outputs": [],
   "source": [
    "submissionDf.to_csv('my-submission.csv', index = False)"
   ]
  },
  {
   "cell_type": "markdown",
   "metadata": {},
   "source": [
    "# Random Forest par mfcc"
   ]
  },
  {
   "cell_type": "markdown",
   "metadata": {},
   "source": [
    "## Split par IdSound"
   ]
  },
  {
   "cell_type": "code",
   "execution_count": 12,
   "metadata": {
    "collapsed": false
   },
   "outputs": [
    {
     "data": {
      "text/plain": [
       "6"
      ]
     },
     "execution_count": 12,
     "metadata": {},
     "output_type": "execute_result"
    }
   ],
   "source": [
    "mfcc.rdd.getNumPartitions()"
   ]
  },
  {
   "cell_type": "code",
   "execution_count": 13,
   "metadata": {
    "collapsed": false
   },
   "outputs": [
    {
     "name": "stdout",
     "output_type": "stream",
     "text": [
      "852\n",
      "190\n"
     ]
    }
   ],
   "source": [
    "idSounds = mfcc.select(mfcc.idSound, 'class').distinct()\n",
    "idSounds.take(5)\n",
    "\n",
    "# comme d'habitude, on met une partie des données de côté\n",
    "(trainingIdSound, testIdSound) = idSounds.randomSplit([0.8, 0.2], seed = 1234)\n",
    "print(trainingIdSound.count())\n",
    "print(testIdSound.count())\n"
   ]
  },
  {
   "cell_type": "code",
   "execution_count": 14,
   "metadata": {
    "collapsed": false
   },
   "outputs": [
    {
     "name": "stdout",
     "output_type": "stream",
     "text": [
      "root\n",
      " |-- idSound: long (nullable = true)\n",
      " |-- bands_1: double (nullable = true)\n",
      " |-- bands_2: double (nullable = true)\n",
      " |-- bands_3: double (nullable = true)\n",
      " |-- bands_4: double (nullable = true)\n",
      " |-- bands_5: double (nullable = true)\n",
      " |-- bands_6: double (nullable = true)\n",
      " |-- bands_7: double (nullable = true)\n",
      " |-- bands_8: double (nullable = true)\n",
      " |-- bands_9: double (nullable = true)\n",
      " |-- bands_10: double (nullable = true)\n",
      " |-- bands_11: double (nullable = true)\n",
      " |-- bands_12: double (nullable = true)\n",
      " |-- bands_13: double (nullable = true)\n",
      " |-- mfccSeq: long (nullable = true)\n",
      " |-- class: string (nullable = true)\n",
      "\n",
      "+---+\n",
      "|  c|\n",
      "+---+\n",
      "|863|\n",
      "+---+\n",
      "\n",
      "root\n",
      " |-- idSound: long (nullable = true)\n",
      " |-- bands_1: double (nullable = true)\n",
      " |-- bands_2: double (nullable = true)\n",
      " |-- bands_3: double (nullable = true)\n",
      " |-- bands_4: double (nullable = true)\n",
      " |-- bands_5: double (nullable = true)\n",
      " |-- bands_6: double (nullable = true)\n",
      " |-- bands_7: double (nullable = true)\n",
      " |-- bands_8: double (nullable = true)\n",
      " |-- bands_9: double (nullable = true)\n",
      " |-- bands_10: double (nullable = true)\n",
      " |-- bands_11: double (nullable = true)\n",
      " |-- bands_12: double (nullable = true)\n",
      " |-- bands_13: double (nullable = true)\n",
      " |-- mfccSeq: long (nullable = true)\n",
      " |-- class: string (nullable = true)\n",
      "\n",
      "+---+\n",
      "|  c|\n",
      "+---+\n",
      "|190|\n",
      "+---+\n",
      "\n"
     ]
    }
   ],
   "source": [
    "trainingData = trainingIdSound.join(mfcc, mfcc.idSound == trainingIdSound.idSound, 'inner') \\\n",
    "    .drop(trainingIdSound.idSound) \\\n",
    "    .drop(trainingIdSound['class'])\n",
    "\n",
    "trainingData.printSchema()\n",
    "trainingData.persist()\n",
    "trainingData.agg(F.approxCountDistinct(trainingData.idSound).alias('c')).show()\n",
    "\n",
    "testingData = testIdSound.join(mfcc, mfcc.idSound == testIdSound.idSound) \\\n",
    "    .drop(testIdSound.idSound) \\\n",
    "    .drop(testIdSound['class'])\n",
    "\n",
    "testingData.printSchema()\n",
    "testingData.persist()\n",
    "testingData.agg(F.approxCountDistinct(testingData.idSound).alias('c')).show()"
   ]
  },
  {
   "cell_type": "code",
   "execution_count": 15,
   "metadata": {
    "collapsed": false
   },
   "outputs": [],
   "source": [
    "labelIndexer = StringIndexer(inputCol='class', outputCol='classIndex').fit(mfcc)\n",
    "\n",
    "assembler = VectorAssembler(\n",
    "    inputCols=predictors,\n",
    "    outputCol='features')\n",
    "\n",
    "normalizer = Normalizer(inputCol=\"features\", outputCol=\"normFeatures\", p=1.0)\n",
    "\n",
    "rf = RandomForestClassifier(labelCol=\"classIndex\", featuresCol=\"normFeatures\", seed = 1234)\n",
    "\n",
    "pipeline = Pipeline(stages=[labelIndexer, assembler, normalizer, rf])\n",
    "\n",
    "model = pipeline.fit(trainingData)"
   ]
  },
  {
   "cell_type": "code",
   "execution_count": 16,
   "metadata": {
    "collapsed": false
   },
   "outputs": [
    {
     "name": "stdout",
     "output_type": "stream",
     "text": [
      "+-------+----------+---------------+----------+------------+--------------------+\n",
      "|idSound|prediction|classPrediction|classIndex|       class|            features|\n",
      "+-------+----------+---------------+----------+------------+--------------------+\n",
      "|     32|       2.0|       dog_bark|       0.0|street_music|[-1136.52746582,2...|\n",
      "|     32|       2.0|       dog_bark|       0.0|street_music|[-1094.26013184,4...|\n",
      "|     32|       2.0|       dog_bark|       0.0|street_music|[-1068.75415039,7...|\n",
      "|     32|       2.0|       dog_bark|       0.0|street_music|[-1046.7611084,96...|\n",
      "|     32|       2.0|       dog_bark|       0.0|street_music|[-997.95880127,80...|\n",
      "+-------+----------+---------------+----------+------------+--------------------+\n",
      "only showing top 5 rows\n",
      "\n"
     ]
    }
   ],
   "source": [
    "# validation\n",
    "rawPredictions = model.transform(testingData)\n",
    "rawPredictions.limit(5).toPandas()\n",
    "converter = IndexToString(inputCol=\"prediction\", outputCol=\"classPrediction\", labels = labelIndexer.labels)\n",
    "predictions = converter.transform(rawPredictions)\n",
    "predictions.select(\"idSound\", \"prediction\", \"classPrediction\", \"classIndex\", \"class\", \"features\").show(5)"
   ]
  },
  {
   "cell_type": "code",
   "execution_count": 18,
   "metadata": {
    "collapsed": false
   },
   "outputs": [],
   "source": [
    "def most_frequent(x, y):\n",
    "    if(y[1] > x[1]):\n",
    "        return y\n",
    "    else:\n",
    "        return x"
   ]
  },
  {
   "cell_type": "code",
   "execution_count": 19,
   "metadata": {
    "collapsed": false
   },
   "outputs": [],
   "source": [
    "groupedByIdSoundPredictions = predictions.groupBy(['idSound', 'classPrediction']) \\\n",
    "    .count() \\\n",
    "    .map(lambda row: (row[0], (row[1], row[2]))) \\\n",
    "    .reduceByKey(most_frequent) \\\n",
    "    .map(lambda row: (row[0], (row[1][0]))) \\\n",
    "    .collect()"
   ]
  },
  {
   "cell_type": "code",
   "execution_count": null,
   "metadata": {
    "collapsed": false
   },
   "outputs": [],
   "source": [
    "pd.Categorical(groupedByIdSoundPredictions['class'])"
   ]
  },
  {
   "cell_type": "code",
   "execution_count": 21,
   "metadata": {
    "collapsed": false
   },
   "outputs": [
    {
     "data": {
      "text/plain": [
       "idSound       int64\n",
       "class      category\n",
       "dtype: object"
      ]
     },
     "execution_count": 21,
     "metadata": {},
     "output_type": "execute_result"
    }
   ],
   "source": [
    "import numpy as np\n",
    "import pandas as pd\n",
    "\n",
    "groupedByIdSoundPredictionsDf = pd.DataFrame(groupedByIdSoundPredictions, columns = ['idSound', 'class'])\n",
    "groupedByIdSoundPredictionsDf['class'] = groupedByIdSoundPredictionsDf['class'].astype('category')\n",
    "groupedByIdSoundPredictionsDf[:10]\n",
    "groupedByIdSoundPredictionsDf.dtypes"
   ]
  },
  {
   "cell_type": "code",
   "execution_count": 22,
   "metadata": {
    "collapsed": false
   },
   "outputs": [
    {
     "data": {
      "text/html": [
       "<div>\n",
       "<table border=\"1\" class=\"dataframe\">\n",
       "  <thead>\n",
       "    <tr style=\"text-align: right;\">\n",
       "      <th></th>\n",
       "      <th>idSound</th>\n",
       "      <th>class</th>\n",
       "    </tr>\n",
       "  </thead>\n",
       "  <tbody>\n",
       "    <tr>\n",
       "      <th>0</th>\n",
       "      <td>147</td>\n",
       "      <td>dog_bark</td>\n",
       "    </tr>\n",
       "    <tr>\n",
       "      <th>1</th>\n",
       "      <td>747</td>\n",
       "      <td>dog_bark</td>\n",
       "    </tr>\n",
       "    <tr>\n",
       "      <th>2</th>\n",
       "      <td>347</td>\n",
       "      <td>engine_idling</td>\n",
       "    </tr>\n",
       "    <tr>\n",
       "      <th>3</th>\n",
       "      <td>239</td>\n",
       "      <td>dog_bark</td>\n",
       "    </tr>\n",
       "    <tr>\n",
       "      <th>4</th>\n",
       "      <td>1066</td>\n",
       "      <td>engine_idling</td>\n",
       "    </tr>\n",
       "    <tr>\n",
       "      <th>5</th>\n",
       "      <td>298</td>\n",
       "      <td>children_playing</td>\n",
       "    </tr>\n",
       "    <tr>\n",
       "      <th>6</th>\n",
       "      <td>812</td>\n",
       "      <td>engine_idling</td>\n",
       "    </tr>\n",
       "    <tr>\n",
       "      <th>7</th>\n",
       "      <td>1173</td>\n",
       "      <td>gun_shot</td>\n",
       "    </tr>\n",
       "    <tr>\n",
       "      <th>8</th>\n",
       "      <td>1104</td>\n",
       "      <td>engine_idling</td>\n",
       "    </tr>\n",
       "    <tr>\n",
       "      <th>9</th>\n",
       "      <td>650</td>\n",
       "      <td>engine_idling</td>\n",
       "    </tr>\n",
       "  </tbody>\n",
       "</table>\n",
       "</div>"
      ],
      "text/plain": [
       "   idSound             class\n",
       "0      147          dog_bark\n",
       "1      747          dog_bark\n",
       "2      347     engine_idling\n",
       "3      239          dog_bark\n",
       "4     1066     engine_idling\n",
       "5      298  children_playing\n",
       "6      812     engine_idling\n",
       "7     1173          gun_shot\n",
       "8     1104     engine_idling\n",
       "9      650     engine_idling"
      ]
     },
     "execution_count": 22,
     "metadata": {},
     "output_type": "execute_result"
    }
   ],
   "source": [
    "testIdSoundDf = testIdSound.toPandas()\n",
    "testIdSoundDf['class'] = testIdSoundDf['class'].astype('category')\n",
    "testIdSoundDf[:10]"
   ]
  },
  {
   "cell_type": "code",
   "execution_count": null,
   "metadata": {
    "collapsed": false
   },
   "outputs": [],
   "source": [
    "testIdSoundDf.sort('idSound')"
   ]
  },
  {
   "cell_type": "code",
   "execution_count": null,
   "metadata": {
    "collapsed": false
   },
   "outputs": [],
   "source": [
    "groupedByIdSoundPredictionsDf.sort('idSound')"
   ]
  },
  {
   "cell_type": "code",
   "execution_count": 42,
   "metadata": {
    "collapsed": false
   },
   "outputs": [],
   "source": [
    "y_true = testIdSoundDf.sort_values('idSound')['class'].astype('category').rename('obs')\n",
    "y_pred = groupedByIdSoundPredictionsDf.sort_values('idSound')['class'].astype('category').rename('pred')"
   ]
  },
  {
   "cell_type": "code",
   "execution_count": 43,
   "metadata": {
    "collapsed": false
   },
   "outputs": [
    {
     "data": {
      "text/plain": [
       "51             drilling\n",
       "67         street_music\n",
       "19             car_horn\n",
       "126            gun_shot\n",
       "87             drilling\n",
       "63             dog_bark\n",
       "96         street_music\n",
       "84             car_horn\n",
       "68     children_playing\n",
       "32        engine_idling\n",
       "Name: obs, dtype: category\n",
       "Categories (10, object): [air_conditionner, car_horn, children_playing, dog_bark, ..., gun_shot, jackhammer, siren, street_music]"
      ]
     },
     "execution_count": 43,
     "metadata": {},
     "output_type": "execute_result"
    }
   ],
   "source": [
    "y_true[:10]"
   ]
  },
  {
   "cell_type": "code",
   "execution_count": 44,
   "metadata": {
    "collapsed": false
   },
   "outputs": [
    {
     "data": {
      "text/plain": [
       "4         dog_bark\n",
       "5     street_music\n",
       "6     street_music\n",
       "9         dog_bark\n",
       "15        dog_bark\n",
       "32    street_music\n",
       "33    street_music\n",
       "37        dog_bark\n",
       "39        dog_bark\n",
       "44    street_music\n",
       "Name: pred, dtype: category\n",
       "Categories (5, object): [air_conditionner, children_playing, dog_bark, engine_idling, street_music]"
      ]
     },
     "execution_count": 44,
     "metadata": {},
     "output_type": "execute_result"
    }
   ],
   "source": [
    "y_pred[:10]"
   ]
  },
  {
   "cell_type": "code",
   "execution_count": 46,
   "metadata": {
    "collapsed": false
   },
   "outputs": [
    {
     "data": {
      "text/plain": [
       "Series([], Name: pred, dtype: category\n",
       "Categories (5, object): [air_conditionner, children_playing, dog_bark, engine_idling, street_music])"
      ]
     },
     "execution_count": 46,
     "metadata": {},
     "output_type": "execute_result"
    }
   ],
   "source": [
    "y_pred[y_pred == 'class']"
   ]
  },
  {
   "cell_type": "code",
   "execution_count": 47,
   "metadata": {
    "collapsed": false
   },
   "outputs": [
    {
     "data": {
      "text/plain": [
       "Series([], Name: obs, dtype: category\n",
       "Categories (10, object): [air_conditionner, car_horn, children_playing, dog_bark, ..., gun_shot, jackhammer, siren, street_music])"
      ]
     },
     "execution_count": 47,
     "metadata": {},
     "output_type": "execute_result"
    }
   ],
   "source": [
    "y_true[y_true == 'class']"
   ]
  },
  {
   "cell_type": "code",
   "execution_count": 56,
   "metadata": {
    "collapsed": false
   },
   "outputs": [
    {
     "data": {
      "text/html": [
       "<div>\n",
       "<table border=\"1\" class=\"dataframe\">\n",
       "  <thead>\n",
       "    <tr style=\"text-align: right;\">\n",
       "      <th>pred</th>\n",
       "      <th>air_conditionner</th>\n",
       "      <th>children_playing</th>\n",
       "      <th>dog_bark</th>\n",
       "      <th>engine_idling</th>\n",
       "      <th>street_music</th>\n",
       "      <th>All</th>\n",
       "    </tr>\n",
       "    <tr>\n",
       "      <th>obs</th>\n",
       "      <th></th>\n",
       "      <th></th>\n",
       "      <th></th>\n",
       "      <th></th>\n",
       "      <th></th>\n",
       "      <th></th>\n",
       "    </tr>\n",
       "  </thead>\n",
       "  <tbody>\n",
       "    <tr>\n",
       "      <th>air_conditionner</th>\n",
       "      <td>1</td>\n",
       "      <td>0</td>\n",
       "      <td>0</td>\n",
       "      <td>0</td>\n",
       "      <td>2</td>\n",
       "      <td>3</td>\n",
       "    </tr>\n",
       "    <tr>\n",
       "      <th>car_horn</th>\n",
       "      <td>0</td>\n",
       "      <td>5</td>\n",
       "      <td>8</td>\n",
       "      <td>1</td>\n",
       "      <td>8</td>\n",
       "      <td>22</td>\n",
       "    </tr>\n",
       "    <tr>\n",
       "      <th>children_playing</th>\n",
       "      <td>0</td>\n",
       "      <td>1</td>\n",
       "      <td>16</td>\n",
       "      <td>0</td>\n",
       "      <td>5</td>\n",
       "      <td>22</td>\n",
       "    </tr>\n",
       "    <tr>\n",
       "      <th>dog_bark</th>\n",
       "      <td>1</td>\n",
       "      <td>4</td>\n",
       "      <td>20</td>\n",
       "      <td>0</td>\n",
       "      <td>23</td>\n",
       "      <td>48</td>\n",
       "    </tr>\n",
       "    <tr>\n",
       "      <th>drilling</th>\n",
       "      <td>0</td>\n",
       "      <td>2</td>\n",
       "      <td>5</td>\n",
       "      <td>0</td>\n",
       "      <td>8</td>\n",
       "      <td>15</td>\n",
       "    </tr>\n",
       "    <tr>\n",
       "      <th>engine_idling</th>\n",
       "      <td>0</td>\n",
       "      <td>3</td>\n",
       "      <td>11</td>\n",
       "      <td>0</td>\n",
       "      <td>6</td>\n",
       "      <td>20</td>\n",
       "    </tr>\n",
       "    <tr>\n",
       "      <th>gun_shot</th>\n",
       "      <td>0</td>\n",
       "      <td>3</td>\n",
       "      <td>5</td>\n",
       "      <td>0</td>\n",
       "      <td>5</td>\n",
       "      <td>13</td>\n",
       "    </tr>\n",
       "    <tr>\n",
       "      <th>jackhammer</th>\n",
       "      <td>0</td>\n",
       "      <td>1</td>\n",
       "      <td>2</td>\n",
       "      <td>0</td>\n",
       "      <td>1</td>\n",
       "      <td>4</td>\n",
       "    </tr>\n",
       "    <tr>\n",
       "      <th>siren</th>\n",
       "      <td>0</td>\n",
       "      <td>1</td>\n",
       "      <td>5</td>\n",
       "      <td>0</td>\n",
       "      <td>7</td>\n",
       "      <td>13</td>\n",
       "    </tr>\n",
       "    <tr>\n",
       "      <th>street_music</th>\n",
       "      <td>1</td>\n",
       "      <td>5</td>\n",
       "      <td>9</td>\n",
       "      <td>2</td>\n",
       "      <td>13</td>\n",
       "      <td>30</td>\n",
       "    </tr>\n",
       "    <tr>\n",
       "      <th>All</th>\n",
       "      <td>3</td>\n",
       "      <td>25</td>\n",
       "      <td>81</td>\n",
       "      <td>3</td>\n",
       "      <td>78</td>\n",
       "      <td>190</td>\n",
       "    </tr>\n",
       "  </tbody>\n",
       "</table>\n",
       "</div>"
      ],
      "text/plain": [
       "pred              air_conditionner  children_playing  dog_bark  engine_idling  \\\n",
       "obs                                                                             \n",
       "air_conditionner                 1                 0         0              0   \n",
       "car_horn                         0                 5         8              1   \n",
       "children_playing                 0                 1        16              0   \n",
       "dog_bark                         1                 4        20              0   \n",
       "drilling                         0                 2         5              0   \n",
       "engine_idling                    0                 3        11              0   \n",
       "gun_shot                         0                 3         5              0   \n",
       "jackhammer                       0                 1         2              0   \n",
       "siren                            0                 1         5              0   \n",
       "street_music                     1                 5         9              2   \n",
       "All                              3                25        81              3   \n",
       "\n",
       "pred              street_music  All  \n",
       "obs                                  \n",
       "air_conditionner             2    3  \n",
       "car_horn                     8   22  \n",
       "children_playing             5   22  \n",
       "dog_bark                    23   48  \n",
       "drilling                     8   15  \n",
       "engine_idling                6   20  \n",
       "gun_shot                     5   13  \n",
       "jackhammer                   1    4  \n",
       "siren                        7   13  \n",
       "street_music                13   30  \n",
       "All                         78  190  "
      ]
     },
     "execution_count": 56,
     "metadata": {},
     "output_type": "execute_result"
    }
   ],
   "source": [
    "pd.crosstab(y_true, y_pred, margins=True)"
   ]
  },
  {
   "cell_type": "code",
   "execution_count": 60,
   "metadata": {
    "collapsed": false
   },
   "outputs": [
    {
     "name": "stdout",
     "output_type": "stream",
     "text": [
      "             precision    recall  f1-score   support\n",
      "\n",
      "air_conditionner       0.00      0.00      0.00         3\n",
      "   car_horn       0.00      0.00      0.00        22\n",
      "children_playing       0.20      0.23      0.21        22\n",
      "   dog_bark       0.42      0.71      0.53        48\n",
      "   drilling       0.00      0.00      0.00        15\n",
      "engine_idling       1.00      0.15      0.26        20\n",
      "   gun_shot       0.00      0.00      0.00        13\n",
      " jackhammer       0.00      0.00      0.00         4\n",
      "      siren       0.00      0.00      0.00        13\n",
      "street_music       0.36      0.93      0.52        30\n",
      "\n",
      "avg / total       0.29      0.37      0.27       190\n",
      "\n",
      "F1 score is 0.27\n"
     ]
    },
    {
     "name": "stderr",
     "output_type": "stream",
     "text": [
      "/usr/lib/python2.7/dist-packages/sklearn/metrics/classification.py:756: DeprecationWarning: The default `weighted` averaging is deprecated, and from version 0.18, use of precision, recall or F-score with multiclass or multilabel data or pos_label=None will result in an exception. Please set an explicit value for `average`, one of (None, 'micro', 'macro', 'weighted', 'samples'). In cross validation use, for instance, scoring=\"f1_weighted\" instead of scoring=\"f1\".\n",
      "  sample_weight=sample_weight)\n"
     ]
    }
   ],
   "source": [
    "from sklearn.metrics import classification_report, f1_score\n",
    "report = classification_report(y_true, y_pred)\n",
    "print(report)\n",
    "score = f1_score(y_true, y_pred)\n",
    "print('F1 score is %.02f' % score)"
   ]
  },
  {
   "cell_type": "markdown",
   "metadata": {},
   "source": [
    "## Soumettre pour le challenge"
   ]
  },
  {
   "cell_type": "markdown",
   "metadata": {},
   "source": [
    "On prédit maintenant sur le jeu de validation:"
   ]
  },
  {
   "cell_type": "code",
   "execution_count": 62,
   "metadata": {
    "collapsed": true
   },
   "outputs": [],
   "source": [
    "validation = sqlContext.read.parquet('/user/geraud/shazam/parquet/nc13-validation.parquet')"
   ]
  },
  {
   "cell_type": "code",
   "execution_count": 63,
   "metadata": {
    "collapsed": false
   },
   "outputs": [
    {
     "data": {
      "text/html": [
       "<div>\n",
       "<table border=\"1\" class=\"dataframe\">\n",
       "  <thead>\n",
       "    <tr style=\"text-align: right;\">\n",
       "      <th></th>\n",
       "      <th>idSound</th>\n",
       "      <th>bands_1</th>\n",
       "      <th>bands_2</th>\n",
       "      <th>bands_3</th>\n",
       "      <th>bands_4</th>\n",
       "      <th>bands_5</th>\n",
       "      <th>bands_6</th>\n",
       "      <th>bands_7</th>\n",
       "      <th>bands_8</th>\n",
       "      <th>bands_9</th>\n",
       "      <th>bands_10</th>\n",
       "      <th>bands_11</th>\n",
       "      <th>bands_12</th>\n",
       "      <th>bands_13</th>\n",
       "      <th>mfccSeq</th>\n",
       "    </tr>\n",
       "  </thead>\n",
       "  <tbody>\n",
       "    <tr>\n",
       "      <th>0</th>\n",
       "      <td>1130</td>\n",
       "      <td>-1057.423462</td>\n",
       "      <td>87.011238</td>\n",
       "      <td>28.748173</td>\n",
       "      <td>-17.006512</td>\n",
       "      <td>-30.835201</td>\n",
       "      <td>-19.854256</td>\n",
       "      <td>0.493351</td>\n",
       "      <td>16.339136</td>\n",
       "      <td>18.646038</td>\n",
       "      <td>6.955988</td>\n",
       "      <td>-7.209547</td>\n",
       "      <td>-9.019821</td>\n",
       "      <td>0.059845</td>\n",
       "      <td>1</td>\n",
       "    </tr>\n",
       "    <tr>\n",
       "      <th>1</th>\n",
       "      <td>1130</td>\n",
       "      <td>-1043.122681</td>\n",
       "      <td>88.584984</td>\n",
       "      <td>40.072498</td>\n",
       "      <td>-21.283649</td>\n",
       "      <td>-24.326508</td>\n",
       "      <td>-20.599548</td>\n",
       "      <td>6.733120</td>\n",
       "      <td>23.518503</td>\n",
       "      <td>19.811245</td>\n",
       "      <td>5.924215</td>\n",
       "      <td>-20.479956</td>\n",
       "      <td>-9.847610</td>\n",
       "      <td>-14.712553</td>\n",
       "      <td>2</td>\n",
       "    </tr>\n",
       "    <tr>\n",
       "      <th>2</th>\n",
       "      <td>1130</td>\n",
       "      <td>-1083.237061</td>\n",
       "      <td>53.288303</td>\n",
       "      <td>34.889881</td>\n",
       "      <td>3.272610</td>\n",
       "      <td>-7.783813</td>\n",
       "      <td>-4.266098</td>\n",
       "      <td>-3.541752</td>\n",
       "      <td>6.613411</td>\n",
       "      <td>1.268120</td>\n",
       "      <td>6.998857</td>\n",
       "      <td>6.348866</td>\n",
       "      <td>5.566071</td>\n",
       "      <td>3.963509</td>\n",
       "      <td>3</td>\n",
       "    </tr>\n",
       "    <tr>\n",
       "      <th>3</th>\n",
       "      <td>1130</td>\n",
       "      <td>-1060.809326</td>\n",
       "      <td>71.071884</td>\n",
       "      <td>38.297337</td>\n",
       "      <td>3.900204</td>\n",
       "      <td>-7.461784</td>\n",
       "      <td>0.368042</td>\n",
       "      <td>-3.582180</td>\n",
       "      <td>-0.843277</td>\n",
       "      <td>-9.392647</td>\n",
       "      <td>5.319008</td>\n",
       "      <td>8.935528</td>\n",
       "      <td>6.912689</td>\n",
       "      <td>1.413979</td>\n",
       "      <td>4</td>\n",
       "    </tr>\n",
       "    <tr>\n",
       "      <th>4</th>\n",
       "      <td>1130</td>\n",
       "      <td>-1076.274902</td>\n",
       "      <td>72.305397</td>\n",
       "      <td>44.818089</td>\n",
       "      <td>17.522175</td>\n",
       "      <td>0.121017</td>\n",
       "      <td>-2.276543</td>\n",
       "      <td>-3.874554</td>\n",
       "      <td>1.093788</td>\n",
       "      <td>4.462513</td>\n",
       "      <td>3.175598</td>\n",
       "      <td>4.348476</td>\n",
       "      <td>2.092545</td>\n",
       "      <td>3.292015</td>\n",
       "      <td>5</td>\n",
       "    </tr>\n",
       "  </tbody>\n",
       "</table>\n",
       "</div>"
      ],
      "text/plain": [
       "   idSound      bands_1    bands_2    bands_3    bands_4    bands_5  \\\n",
       "0     1130 -1057.423462  87.011238  28.748173 -17.006512 -30.835201   \n",
       "1     1130 -1043.122681  88.584984  40.072498 -21.283649 -24.326508   \n",
       "2     1130 -1083.237061  53.288303  34.889881   3.272610  -7.783813   \n",
       "3     1130 -1060.809326  71.071884  38.297337   3.900204  -7.461784   \n",
       "4     1130 -1076.274902  72.305397  44.818089  17.522175   0.121017   \n",
       "\n",
       "     bands_6   bands_7    bands_8    bands_9  bands_10   bands_11  bands_12  \\\n",
       "0 -19.854256  0.493351  16.339136  18.646038  6.955988  -7.209547 -9.019821   \n",
       "1 -20.599548  6.733120  23.518503  19.811245  5.924215 -20.479956 -9.847610   \n",
       "2  -4.266098 -3.541752   6.613411   1.268120  6.998857   6.348866  5.566071   \n",
       "3   0.368042 -3.582180  -0.843277  -9.392647  5.319008   8.935528  6.912689   \n",
       "4  -2.276543 -3.874554   1.093788   4.462513  3.175598   4.348476  2.092545   \n",
       "\n",
       "    bands_13  mfccSeq  \n",
       "0   0.059845        1  \n",
       "1 -14.712553        2  \n",
       "2   3.963509        3  \n",
       "3   1.413979        4  \n",
       "4   3.292015        5  "
      ]
     },
     "execution_count": 63,
     "metadata": {},
     "output_type": "execute_result"
    }
   ],
   "source": [
    "validation.select(validation.columns[:15]).limit(5).toPandas()"
   ]
  },
  {
   "cell_type": "code",
   "execution_count": 64,
   "metadata": {
    "collapsed": false
   },
   "outputs": [
    {
     "name": "stdout",
     "output_type": "stream",
     "text": [
      "+-------+----------+---------------+--------------------+\n",
      "|idSound|prediction|classPrediction|            features|\n",
      "+-------+----------+---------------+--------------------+\n",
      "|   1130|       2.0|       dog_bark|[-1057.42346191,8...|\n",
      "|   1130|       2.0|       dog_bark|[-1043.12268066,8...|\n",
      "|   1130|       2.0|       dog_bark|[-1083.23706055,5...|\n",
      "|   1130|       2.0|       dog_bark|[-1060.80932617,7...|\n",
      "|   1130|       2.0|       dog_bark|[-1076.27490234,7...|\n",
      "+-------+----------+---------------+--------------------+\n",
      "only showing top 5 rows\n",
      "\n"
     ]
    }
   ],
   "source": [
    "rawPredictions = model.transform(validation.select(validation.columns[:15]))\n",
    "\n",
    "predictions = converter.transform(rawPredictions)\n",
    "predictions.select(\"idSound\", \"prediction\", \"classPrediction\", \"features\").show(5)"
   ]
  },
  {
   "cell_type": "code",
   "execution_count": 65,
   "metadata": {
    "collapsed": false
   },
   "outputs": [],
   "source": [
    "groupedByIdSoundPredictions = predictions.groupBy(['idSound', 'classPrediction']) \\\n",
    "    .count() \\\n",
    "    .map(lambda row: (row[0], (row[1], row[2]))) \\\n",
    "    .reduceByKey(most_frequent) \\\n",
    "    .map(lambda row: (row[0], row[1][0])) \\\n",
    "    .collect()"
   ]
  },
  {
   "cell_type": "code",
   "execution_count": 66,
   "metadata": {
    "collapsed": false
   },
   "outputs": [
    {
     "data": {
      "text/plain": [
       "[(0, u'street_music'),\n",
       " (401, u'children_playing'),\n",
       " (803, u'street_music'),\n",
       " (404, u'street_music'),\n",
       " (1204, u'street_music'),\n",
       " (1205, u'dog_bark'),\n",
       " (1005, u'children_playing'),\n",
       " (805, u'dog_bark'),\n",
       " (405, u'street_music'),\n",
       " (407, u'street_music')]"
      ]
     },
     "execution_count": 66,
     "metadata": {},
     "output_type": "execute_result"
    }
   ],
   "source": [
    "groupedByIdSoundPredictions[:10]"
   ]
  },
  {
   "cell_type": "code",
   "execution_count": 67,
   "metadata": {
    "collapsed": false
   },
   "outputs": [],
   "source": [
    "import pandas as pd\n",
    "submissionDf = pd.DataFrame(groupedByIdSoundPredictions, columns = ['idSound', 'class'])\n",
    "    "
   ]
  },
  {
   "cell_type": "code",
   "execution_count": 68,
   "metadata": {
    "collapsed": false
   },
   "outputs": [
    {
     "data": {
      "text/html": [
       "<div>\n",
       "<table border=\"1\" class=\"dataframe\">\n",
       "  <thead>\n",
       "    <tr style=\"text-align: right;\">\n",
       "      <th></th>\n",
       "      <th>idSound</th>\n",
       "      <th>class</th>\n",
       "    </tr>\n",
       "  </thead>\n",
       "  <tbody>\n",
       "    <tr>\n",
       "      <th>0</th>\n",
       "      <td>0</td>\n",
       "      <td>street_music</td>\n",
       "    </tr>\n",
       "    <tr>\n",
       "      <th>1</th>\n",
       "      <td>401</td>\n",
       "      <td>children_playing</td>\n",
       "    </tr>\n",
       "    <tr>\n",
       "      <th>2</th>\n",
       "      <td>803</td>\n",
       "      <td>street_music</td>\n",
       "    </tr>\n",
       "    <tr>\n",
       "      <th>3</th>\n",
       "      <td>404</td>\n",
       "      <td>street_music</td>\n",
       "    </tr>\n",
       "    <tr>\n",
       "      <th>4</th>\n",
       "      <td>1204</td>\n",
       "      <td>street_music</td>\n",
       "    </tr>\n",
       "    <tr>\n",
       "      <th>5</th>\n",
       "      <td>1205</td>\n",
       "      <td>dog_bark</td>\n",
       "    </tr>\n",
       "    <tr>\n",
       "      <th>6</th>\n",
       "      <td>1005</td>\n",
       "      <td>children_playing</td>\n",
       "    </tr>\n",
       "    <tr>\n",
       "      <th>7</th>\n",
       "      <td>805</td>\n",
       "      <td>dog_bark</td>\n",
       "    </tr>\n",
       "    <tr>\n",
       "      <th>8</th>\n",
       "      <td>405</td>\n",
       "      <td>street_music</td>\n",
       "    </tr>\n",
       "    <tr>\n",
       "      <th>9</th>\n",
       "      <td>407</td>\n",
       "      <td>street_music</td>\n",
       "    </tr>\n",
       "  </tbody>\n",
       "</table>\n",
       "</div>"
      ],
      "text/plain": [
       "   idSound             class\n",
       "0        0      street_music\n",
       "1      401  children_playing\n",
       "2      803      street_music\n",
       "3      404      street_music\n",
       "4     1204      street_music\n",
       "5     1205          dog_bark\n",
       "6     1005  children_playing\n",
       "7      805          dog_bark\n",
       "8      405      street_music\n",
       "9      407      street_music"
      ]
     },
     "execution_count": 68,
     "metadata": {},
     "output_type": "execute_result"
    }
   ],
   "source": [
    "submissionDf[:10]"
   ]
  },
  {
   "cell_type": "code",
   "execution_count": 69,
   "metadata": {
    "collapsed": true
   },
   "outputs": [],
   "source": [
    "submissionDf.to_csv('my-submission.csv', index = False)"
   ]
  },
  {
   "cell_type": "code",
   "execution_count": null,
   "metadata": {
    "collapsed": true
   },
   "outputs": [],
   "source": []
  }
 ],
 "metadata": {
  "kernelspec": {
   "display_name": "Python 2",
   "language": "python",
   "name": "python2"
  },
  "language_info": {
   "codemirror_mode": {
    "name": "ipython",
    "version": 2
   },
   "file_extension": ".py",
   "mimetype": "text/x-python",
   "name": "python",
   "nbconvert_exporter": "python",
   "pygments_lexer": "ipython2",
   "version": "2.7.9"
  },
  "widgets": {
   "state": {},
   "version": "1.1.2"
  }
 },
 "nbformat": 4,
 "nbformat_minor": 0
}
